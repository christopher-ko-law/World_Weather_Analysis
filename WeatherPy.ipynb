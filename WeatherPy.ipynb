{
 "metadata": {
  "language_info": {
   "codemirror_mode": {
    "name": "ipython",
    "version": 3
   },
   "file_extension": ".py",
   "mimetype": "text/x-python",
   "name": "python",
   "nbconvert_exporter": "python",
   "pygments_lexer": "ipython3",
   "version": "3.7.9"
  },
  "orig_nbformat": 2,
  "kernelspec": {
   "name": "python379jvsc74a57bd0e2bcddd6c37faf82ae86ce4fbdc1e0e1283705ae1a9dc3d0bccde478582b2c37",
   "display_name": "Python 3.7.9 64-bit ('PythonData': conda)"
  }
 },
 "nbformat": 4,
 "nbformat_minor": 2,
 "cells": [
  {
   "cell_type": "code",
   "execution_count": 2,
   "metadata": {},
   "outputs": [],
   "source": [
    "# Import the dependencies.\n",
    "import pandas as pd\n",
    "import matplotlib.pyplot as plt\n",
    "import numpy as np"
   ]
  },
  {
   "cell_type": "code",
   "execution_count": 3,
   "metadata": {},
   "outputs": [
    {
     "output_type": "execute_result",
     "data": {
      "text/plain": [
       "<zip at 0x7fc4cdaa4e10>"
      ]
     },
     "metadata": {},
     "execution_count": 3
    }
   ],
   "source": [
    "# Create a set of random latitude and longitude combinations.\n",
    "lats = np.random.uniform(low=-90.000, high=90.000, size=1500)\n",
    "lngs = np.random.uniform(low=-180.000, high=180.000, size=1500)\n",
    "lat_lngs = zip(lats, lngs)\n",
    "lat_lngs"
   ]
  },
  {
   "cell_type": "code",
   "execution_count": 4,
   "metadata": {},
   "outputs": [],
   "source": [
    "# Add the latitudes and longitudes to a list.\n",
    "coordinates = list(lat_lngs)"
   ]
  },
  {
   "cell_type": "code",
   "execution_count": 5,
   "metadata": {},
   "outputs": [],
   "source": [
    "# Use the citipy module to determine city based on latitude and longitude.\n",
    "from citipy import citipy"
   ]
  },
  {
   "cell_type": "code",
   "execution_count": 6,
   "metadata": {},
   "outputs": [
    {
     "output_type": "execute_result",
     "data": {
      "text/plain": [
       "616"
      ]
     },
     "metadata": {},
     "execution_count": 6
    }
   ],
   "source": [
    "# Create a list for holding the cities.\n",
    "cities = []\n",
    "# Identify the nearest city for each latitude and longitude combination.\n",
    "for coordinate in coordinates:\n",
    "    city = citipy.nearest_city(coordinate[0], coordinate[1]).city_name\n",
    "\n",
    "    # If the city is unique, then we will add it to the cities list.\n",
    "    if city not in cities:\n",
    "        cities.append(city)\n",
    "# Print the city count to confirm sufficient count.\n",
    "len(cities)"
   ]
  },
  {
   "cell_type": "code",
   "execution_count": 7,
   "metadata": {},
   "outputs": [
    {
     "output_type": "execute_result",
     "data": {
      "text/plain": [
       "'2.24.0'"
      ]
     },
     "metadata": {},
     "execution_count": 7
    }
   ],
   "source": [
    "import requests\n",
    "requests.__version__"
   ]
  },
  {
   "cell_type": "code",
   "execution_count": 16,
   "metadata": {
    "tags": []
   },
   "outputs": [
    {
     "output_type": "stream",
     "name": "stdout",
     "text": [
      "Beginning Data Retrieval     \n",
      "-----------------------------\n",
      "Processing Record 1 of Set 1 | torbay\n",
      "Processing Record 2 of Set 1 | carnarvon\n",
      "Processing Record 3 of Set 1 | hachinohe\n",
      "Processing Record 4 of Set 1 | hilo\n",
      "Processing Record 5 of Set 1 | port alfred\n",
      "Processing Record 6 of Set 1 | esperance\n",
      "Processing Record 7 of Set 1 | hobart\n",
      "Processing Record 8 of Set 1 | abeche\n",
      "Processing Record 9 of Set 1 | butaritari\n",
      "Processing Record 10 of Set 1 | kamaishi\n",
      "Processing Record 11 of Set 1 | belushya guba\n",
      "City not found. Skipping...\n",
      "Processing Record 12 of Set 1 | lebu\n",
      "Processing Record 13 of Set 1 | gazojak\n",
      "Processing Record 14 of Set 1 | kapaa\n",
      "Processing Record 15 of Set 1 | illoqqortoormiut\n",
      "City not found. Skipping...\n",
      "Processing Record 16 of Set 1 | saint-philippe\n",
      "Processing Record 17 of Set 1 | san cristobal\n",
      "Processing Record 18 of Set 1 | kaili\n",
      "Processing Record 19 of Set 1 | ushuaia\n",
      "Processing Record 20 of Set 1 | ilulissat\n",
      "Processing Record 21 of Set 1 | new norfolk\n",
      "Processing Record 22 of Set 1 | forbes\n",
      "Processing Record 23 of Set 1 | ancud\n",
      "Processing Record 24 of Set 1 | hambantota\n",
      "Processing Record 25 of Set 1 | alotau\n",
      "City not found. Skipping...\n",
      "Processing Record 26 of Set 1 | albany\n",
      "Processing Record 27 of Set 1 | fortuna\n",
      "Processing Record 28 of Set 1 | mahebourg\n",
      "Processing Record 29 of Set 1 | busselton\n",
      "Processing Record 30 of Set 1 | taolanaro\n",
      "City not found. Skipping...\n",
      "Processing Record 31 of Set 1 | arraial do cabo\n",
      "Processing Record 32 of Set 1 | chuy\n",
      "Processing Record 33 of Set 1 | pangnirtung\n",
      "Processing Record 34 of Set 1 | baykit\n",
      "Processing Record 35 of Set 1 | mataura\n",
      "Processing Record 36 of Set 1 | georgetown\n",
      "Processing Record 37 of Set 1 | alice springs\n",
      "Processing Record 38 of Set 1 | provideniya\n",
      "Processing Record 39 of Set 1 | aykhal\n",
      "Processing Record 40 of Set 1 | barrow\n",
      "Processing Record 41 of Set 1 | puro\n",
      "Processing Record 42 of Set 1 | lufilufi\n",
      "Processing Record 43 of Set 1 | dalvik\n",
      "Processing Record 44 of Set 1 | hermanus\n",
      "Processing Record 45 of Set 1 | rikitea\n",
      "Processing Record 46 of Set 1 | boueni\n",
      "Processing Record 47 of Set 1 | youghal\n",
      "Processing Record 48 of Set 1 | sorland\n",
      "Processing Record 49 of Set 1 | aksarka\n",
      "Processing Record 50 of Set 1 | cockburn town\n",
      "Processing Record 1 of Set 2 | suntar\n",
      "Processing Record 2 of Set 2 | nguiu\n",
      "City not found. Skipping...\n",
      "Processing Record 3 of Set 2 | vangaindrano\n",
      "Processing Record 4 of Set 2 | belaya gora\n",
      "Processing Record 5 of Set 2 | bluff\n",
      "Processing Record 6 of Set 2 | halalo\n",
      "City not found. Skipping...\n",
      "Processing Record 7 of Set 2 | nizhneyansk\n",
      "City not found. Skipping...\n",
      "Processing Record 8 of Set 2 | vaini\n",
      "Processing Record 9 of Set 2 | arlit\n",
      "Processing Record 10 of Set 2 | yellowknife\n",
      "Processing Record 11 of Set 2 | kaitangata\n",
      "Processing Record 12 of Set 2 | normandin\n",
      "Processing Record 13 of Set 2 | narsaq\n",
      "Processing Record 14 of Set 2 | kargasok\n",
      "Processing Record 15 of Set 2 | kamenskoye\n",
      "City not found. Skipping...\n",
      "Processing Record 16 of Set 2 | egvekinot\n",
      "Processing Record 17 of Set 2 | tonantins\n",
      "Processing Record 18 of Set 2 | minab\n",
      "Processing Record 19 of Set 2 | banda aceh\n",
      "Processing Record 20 of Set 2 | mar del plata\n",
      "Processing Record 21 of Set 2 | nanortalik\n",
      "Processing Record 22 of Set 2 | port macquarie\n",
      "Processing Record 23 of Set 2 | atuona\n",
      "Processing Record 24 of Set 2 | jamestown\n",
      "Processing Record 25 of Set 2 | faanui\n",
      "Processing Record 26 of Set 2 | roswell\n",
      "Processing Record 27 of Set 2 | cape town\n",
      "Processing Record 28 of Set 2 | flinders\n",
      "Processing Record 29 of Set 2 | severo-kurilsk\n",
      "Processing Record 30 of Set 2 | mantua\n",
      "Processing Record 31 of Set 2 | ilinskiy\n",
      "Processing Record 32 of Set 2 | kahului\n",
      "Processing Record 33 of Set 2 | sola\n",
      "Processing Record 34 of Set 2 | tonstad\n",
      "Processing Record 35 of Set 2 | vaitupu\n",
      "City not found. Skipping...\n",
      "Processing Record 36 of Set 2 | port-gentil\n",
      "Processing Record 37 of Set 2 | sentyabrskiy\n",
      "City not found. Skipping...\n",
      "Processing Record 38 of Set 2 | qaanaaq\n",
      "Processing Record 39 of Set 2 | novobelokatay\n",
      "Processing Record 40 of Set 2 | thompson\n",
      "Processing Record 41 of Set 2 | lagunas\n",
      "Processing Record 42 of Set 2 | bonthe\n",
      "Processing Record 43 of Set 2 | nelson bay\n",
      "Processing Record 44 of Set 2 | ostrovnoy\n",
      "Processing Record 45 of Set 2 | hami\n",
      "Processing Record 46 of Set 2 | nokaneng\n",
      "Processing Record 47 of Set 2 | guerrero negro\n",
      "Processing Record 48 of Set 2 | nadym\n",
      "Processing Record 49 of Set 2 | avarua\n",
      "Processing Record 50 of Set 2 | kloulklubed\n",
      "Processing Record 1 of Set 3 | tamandare\n",
      "Processing Record 2 of Set 3 | sao joao da barra\n",
      "Processing Record 3 of Set 3 | taltal\n",
      "Processing Record 4 of Set 3 | makakilo city\n",
      "Processing Record 5 of Set 3 | nautla\n",
      "Processing Record 6 of Set 3 | betare oya\n",
      "Processing Record 7 of Set 3 | bima\n",
      "Processing Record 8 of Set 3 | mount isa\n",
      "Processing Record 9 of Set 3 | cap malheureux\n",
      "Processing Record 10 of Set 3 | ihosy\n",
      "Processing Record 11 of Set 3 | malanje\n",
      "Processing Record 12 of Set 3 | vao\n",
      "Processing Record 13 of Set 3 | acajutiba\n",
      "Processing Record 14 of Set 3 | cayenne\n",
      "Processing Record 15 of Set 3 | attawapiskat\n",
      "City not found. Skipping...\n",
      "Processing Record 16 of Set 3 | lompoc\n",
      "Processing Record 17 of Set 3 | bambous virieux\n",
      "Processing Record 18 of Set 3 | conceicao do araguaia\n",
      "Processing Record 19 of Set 3 | punta arenas\n",
      "Processing Record 20 of Set 3 | kaabong\n",
      "Processing Record 21 of Set 3 | isangel\n",
      "Processing Record 22 of Set 3 | mogadishu\n",
      "Processing Record 23 of Set 3 | camacha\n",
      "Processing Record 24 of Set 3 | dwarka\n",
      "Processing Record 25 of Set 3 | bubaque\n",
      "Processing Record 26 of Set 3 | svetlogorsk\n",
      "Processing Record 27 of Set 3 | trapani\n",
      "Processing Record 28 of Set 3 | fort nelson\n",
      "Processing Record 29 of Set 3 | huarmey\n",
      "Processing Record 30 of Set 3 | tuktoyaktuk\n",
      "Processing Record 31 of Set 3 | nikolskoye\n",
      "Processing Record 32 of Set 3 | puerto ayora\n",
      "Processing Record 33 of Set 3 | abhar\n",
      "City not found. Skipping...\n",
      "Processing Record 34 of Set 3 | khatanga\n",
      "Processing Record 35 of Set 3 | port hardy\n",
      "Processing Record 36 of Set 3 | nyurba\n",
      "City not found. Skipping...\n",
      "Processing Record 37 of Set 3 | kihei\n",
      "Processing Record 38 of Set 3 | amapa\n",
      "Processing Record 39 of Set 3 | avera\n",
      "Processing Record 40 of Set 3 | ponta do sol\n",
      "Processing Record 41 of Set 3 | sile\n",
      "Processing Record 42 of Set 3 | meulaboh\n",
      "Processing Record 43 of Set 3 | synya\n",
      "Processing Record 44 of Set 3 | ribeira grande\n",
      "Processing Record 45 of Set 3 | shizilu\n",
      "Processing Record 46 of Set 3 | coihaique\n",
      "Processing Record 47 of Set 3 | ladyzhyn\n",
      "Processing Record 48 of Set 3 | los llanos de aridane\n",
      "Processing Record 49 of Set 3 | richards bay\n",
      "Processing Record 50 of Set 3 | cherskiy\n"
     ]
    }
   ],
   "source": [
    "# Import the datetime module from the datetime library.\n",
    "from datetime import datetime\n",
    "import time\n",
    "\n",
    "# Import the requests library.\n",
    "import requests\n",
    "\n",
    "# Import the API key.\n",
    "from config import weather_api_key\n",
    "\n",
    "url = \"http://api.openweathermap.org/data/2.5/weather?APPID=\" + weather_api_key\n",
    "\n",
    "# Create an empty list to hold the weather data.\n",
    "city_data = []\n",
    "# Print the beginning of the logging.\n",
    "print(\"Beginning Data Retrieval     \")\n",
    "print(\"-----------------------------\")\n",
    "\n",
    "# Create counters.\n",
    "record_count = 1\n",
    "set_count = 1\n",
    "\n",
    "# Loop through all the cities in the list.\n",
    "for i, city in enumerate(cities):\n",
    "\n",
    "    # Group cities in sets of 50 for logging purposes.\n",
    "    if (i % 50 == 0 and i >= 50):\n",
    "        set_count += 1\n",
    "        record_count = 1\n",
    "    # Create endpoint URL with each city.\n",
    "    city_url = url + \"&q=\" + city.replace(\" \",\"+\")\n",
    "\n",
    "    # Log the URL, record, and set numbers and the city.\n",
    "    print(f\"Processing Record {record_count} of Set {set_count} | {city}\")\n",
    "    # Add 1 to the record count.\n",
    "    record_count += 1\n",
    "    # Run an API request for each of the cities.\n",
    "    try:\n",
    "        # Parse the JSON and retrieve data.\n",
    "        city_weather = requests.get(city_url).json()\n",
    "        time.sleep(1)\n",
    "        # Parse out the needed data.\n",
    "        city_lat = city_weather[\"coord\"][\"lat\"]\n",
    "        city_lng = city_weather[\"coord\"][\"lon\"]\n",
    "        city_max_temp = city_weather[\"main\"][\"temp_max\"]\n",
    "        city_humidity = city_weather[\"main\"][\"humidity\"]\n",
    "        city_clouds = city_weather[\"clouds\"][\"all\"]\n",
    "        city_wind = city_weather[\"wind\"][\"speed\"]\n",
    "        city_country = city_weather[\"sys\"][\"country\"]\n",
    "        # Convert the date to ISO standard.\n",
    "        city_date = datetime.utcfromtimestamp(city_weather[\"dt\"]).strftime('%Y-%m-%d %H:%M:%S')\n",
    "        # Append the city information into city_data list.\n",
    "        city_data.append({\"City\": city.title(),\n",
    "                          \"Lat\": city_lat,\n",
    "                          \"Lng\": city_lng,\n",
    "                          \"Max Temp\": city_max_temp,\n",
    "                          \"Humidity\": city_humidity,\n",
    "                          \"Cloudiness\": city_clouds,\n",
    "                          \"Wind Speed\": city_wind,\n",
    "                          \"Country\": city_country,\n",
    "                          \"Date\": city_date})\n",
    "\n",
    "# If an error is experienced, skip the city.\n",
    "    except:\n",
    "        print(\"City not found. Skipping...\")\n",
    "        pass\n",
    "\n",
    "# Indicate that Data Loading is complete.\n",
    "print(\"-----------------------------\")\n",
    "print(\"Data Retrieval Complete      \")\n",
    "print(\"-----------------------------\")"
   ]
  },
  {
   "cell_type": "code",
   "execution_count": 1,
   "metadata": {},
   "outputs": [
    {
     "output_type": "error",
     "ename": "NameError",
     "evalue": "name 'city_data' is not defined",
     "traceback": [
      "\u001b[0;31m---------------------------------------------------------------------------\u001b[0m",
      "\u001b[0;31mNameError\u001b[0m                                 Traceback (most recent call last)",
      "\u001b[0;32m<ipython-input-1-45bcbc2b519d>\u001b[0m in \u001b[0;36m<module>\u001b[0;34m\u001b[0m\n\u001b[0;32m----> 1\u001b[0;31m \u001b[0mlen\u001b[0m\u001b[0;34m(\u001b[0m\u001b[0mcity_data\u001b[0m\u001b[0;34m)\u001b[0m\u001b[0;34m\u001b[0m\u001b[0;34m\u001b[0m\u001b[0m\n\u001b[0m",
      "\u001b[0;31mNameError\u001b[0m: name 'city_data' is not defined"
     ]
    }
   ],
   "source": [
    "len(city_data)"
   ]
  },
  {
   "cell_type": "code",
   "execution_count": null,
   "metadata": {},
   "outputs": [],
   "source": [
    "# Convert the array of dictionaries to a Pandas DataFrame.\n",
    "city_data_df = pd.DataFrame(city_data)\n",
    "city_data_df.head(10)"
   ]
  },
  {
   "cell_type": "code",
   "execution_count": null,
   "metadata": {},
   "outputs": [],
   "source": [
    "# New column order\n",
    "new_column_order = [\"City\",\"Country\",\"Date\",\"Lat\",\"Lng\",\"Max Temp\",\"Humidity\",\"Cloudiness\",\"Wind Speed\"]\n",
    "city_data_df = df[new_column_order]"
   ]
  },
  {
   "cell_type": "code",
   "execution_count": null,
   "metadata": {},
   "outputs": [],
   "source": [
    "# Create the output file (CSV).\n",
    "output_data_file = \"weather_data/cities.csv\"\n",
    "# Export the City_Data into a CSV.\n",
    "city_data_df.to_csv(output_data_file, index_label=\"City_ID\")\n"
   ]
  }
 ]
}